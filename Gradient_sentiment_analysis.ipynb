{
  "nbformat": 4,
  "nbformat_minor": 0,
  "metadata": {
    "colab": {
      "provenance": []
    },
    "kernelspec": {
      "name": "python3",
      "display_name": "Python 3"
    },
    "language_info": {
      "name": "python"
    }
  },
  "cells": [
    {
      "cell_type": "markdown",
      "source": [
        "# Sentiment Analysis using Gradient AI\n",
        "## Gradient facilitates easy fine-tuning and inference for open-source language models (LLMs), enabling rapid model customization with documentation and sample code. Through simple API calls, users can fine-tune models on specific datasets for enhanced performance, with ownership and privacy assured. The Gradient CLI empowers users to manage resources efficiently, from fine-tuning foundational models to querying custom models seamlessly.\n",
        "\n"
      ],
      "metadata": {
        "id": "CC6bsdqrkMfC"
      }
    },
    {
      "cell_type": "markdown",
      "source": [
        "# Installing and Importing Libraries"
      ],
      "metadata": {
        "id": "udwWujd9lIV8"
      }
    },
    {
      "cell_type": "code",
      "execution_count": null,
      "metadata": {
        "id": "-Jolh_mUewcT"
      },
      "outputs": [],
      "source": [
        "!pip install -q gradientai --upgrade    #installing gradient"
      ]
    },
    {
      "cell_type": "code",
      "source": [
        "#importing necessary librabries\n",
        "import os\n",
        "import json\n",
        "from pprint import pprint\n",
        "from google.colab import userdata\n",
        "\n",
        "os.environ['GRADIENT_ACCESS_TOKEN'] = userdata.get('GRADIENT_ACCESS_TOKEN') #access token which we get at gradient.ai after login and creating workspace\n",
        "os.environ['GRADIENT_WORKSPACE_ID'] = userdata.get('GRADIENT_WORKSPACE_ID')"
      ],
      "metadata": {
        "id": "BnwmY5K5e7AT"
      },
      "execution_count": null,
      "outputs": []
    },
    {
      "cell_type": "code",
      "source": [
        "from gradientai import Gradient  #importing gradient\n",
        "gradient = Gradient()"
      ],
      "metadata": {
        "id": "rJTk1Cy8gCsM"
      },
      "execution_count": null,
      "outputs": []
    },
    {
      "cell_type": "markdown",
      "source": [
        "# Sentiment analysis model"
      ],
      "metadata": {
        "id": "rldcHAanoCzR"
      }
    },
    {
      "cell_type": "code",
      "source": [
        "from gradientai import Sentiment   #from gradient importing sentiment analysis model"
      ],
      "metadata": {
        "id": "vIAWJyM1gss9"
      },
      "execution_count": null,
      "outputs": []
    },
    {
      "cell_type": "code",
      "source": [
        "pos_reviews = [\"Trendy and Stylish: Zara clothing always keeps up with the latest fashion trends, making it easy for me to find pieces that are both fashionable and affordable. Whether it's basics or statement pieces, Zara has it all.\",\n",
        "               \"Quality Materials: One thing I appreciate about Zara is the quality of their materials. Even though their prices are reasonable, their clothing feels durable and well-made, which means I can rely on them to last through multiple wears and washes.\",\n",
        "               \"Versatile Selection: Zara offers a wide range of clothing options suitable for various occasions. From casual everyday wear to elegant evening attire, there's something for everyone, making it a go-to destination for all my wardrobe needs.\",\n",
        "               \"Fast Fashion Without Compromising Ethics: Despite being a fast-fashion brand, Zara has made significant strides in improving its sustainability practices. I feel good about shopping here knowing that they are making efforts to minimize their environmental impact and promote ethical production.\",\n",
        "               \"Excellent Customer Service: Every time I've shopped at Zara, I've been impressed by their customer service. The staff is always friendly and helpful, making the shopping experience enjoyable and hassle-free.\"]\n",
        "\n",
        "#giving 5 positive reviews to the model as training process"
      ],
      "metadata": {
        "id": "_0SzqcXXg0xd"
      },
      "execution_count": null,
      "outputs": []
    },
    {
      "cell_type": "code",
      "source": [
        "neg_reviews =[\"Sizing Inconsistencies: One major issue I've encountered with Zara clothing is the inconsistency in sizing. I often find that items fit differently even when they're labeled with the same size, which can be frustrating and inconvenient, especially when shopping online.\",\n",
        "              \"Limited Durability: While Zara's clothing may be stylish, I've found that some pieces lack durability. After only a few wears, I've noticed signs of wear and tear such as loose threads or fading colors, which is disappointing considering the initial investment.\",\n",
        "              \"Overcrowded Stores: Shopping at Zara can sometimes be a chaotic experience due to overcrowded stores, especially during peak hours or sales events. Navigating through the crowded aisles can be overwhelming and detract from the overall shopping experience.\",\n",
        "              \"Ethical Concerns: Despite their efforts to improve sustainability, Zara still faces criticism regarding their ethical practices, particularly concerning labor conditions in their supply chain. This raises concerns about the ethical implications of supporting the brand, which may deter some consumers.\",\n",
        "              \"Limited Size Range: Zara's size range is not as inclusive as it could be, which can be alienating for customers who fall outside of their standard sizing. It would be beneficial for Zara to expand their size range to cater to a more diverse customer base.\"]\n",
        "\n",
        "#giving 5 negative reviews to the model as training process"
      ],
      "metadata": {
        "id": "58PveHbUhbPM"
      },
      "execution_count": null,
      "outputs": []
    },
    {
      "cell_type": "code",
      "source": [
        "sample_review_to_test = \"As a user of Zara clothing, I've experienced frustration with inconsistent sizing, limited durability, and overcrowded stores. It's disappointing to find items not fitting as expected or showing signs of wear after only a few wears. Navigating through crowded aisles can also detract from the overall shopping experience.\"\n",
        "# a sample review to test the model"
      ],
      "metadata": {
        "id": "FTQDMCLghs9D"
      },
      "execution_count": null,
      "outputs": []
    },
    {
      "cell_type": "code",
      "source": [
        "pprint(sample_review_to_test)\n",
        "#printing the testing sample"
      ],
      "metadata": {
        "colab": {
          "base_uri": "https://localhost:8080/"
        },
        "id": "i2geLldrhzmS",
        "outputId": "ed7ab0b1-3061-4050-998b-8a5073f815cf"
      },
      "execution_count": null,
      "outputs": [
        {
          "output_type": "stream",
          "name": "stdout",
          "text": [
            "(\"As a user of Zara clothing, I've experienced frustration with inconsistent \"\n",
            " \"sizing, limited durability, and overcrowded stores. It's disappointing to \"\n",
            " 'find items not fitting as expected or showing signs of wear after only a few '\n",
            " 'wears. Navigating through crowded aisles can also detract from the overall '\n",
            " 'shopping experience.')\n"
          ]
        }
      ]
    },
    {
      "cell_type": "code",
      "source": [
        "document = (sample_review_to_test) #storing test sample in document"
      ],
      "metadata": {
        "id": "FYBo0I_-h7f3"
      },
      "execution_count": null,
      "outputs": []
    },
    {
      "cell_type": "code",
      "source": [
        "#creating example tuple in which storing postive and negative reviews (which we gave as example) in sentiment.positive or negative review and also giving it to document\n",
        "# basically assigning postive and negative review in Sentiment.POSITIVE and Sentiment.NEGATIVE\n",
        "examples = [\n",
        "    {\n",
        "        \"sentiment\": Sentiment.NEGATIVE,\n",
        "        \"document\": (neg_reviews[0]),\n",
        "    },\n",
        "    {\n",
        "        \"sentiment\": Sentiment.POSITIVE,\n",
        "        \"document\": (pos_reviews[0])\n",
        "    },\n",
        "    {\n",
        "        \"sentiment\": Sentiment.NEGATIVE,\n",
        "        \"document\": (neg_reviews[1]),\n",
        "    },\n",
        "    {\n",
        "        \"sentiment\": Sentiment.POSITIVE,\n",
        "        \"document\": (pos_reviews[1])\n",
        "    },\n",
        "    {\n",
        "        \"sentiment\": Sentiment.NEGATIVE,\n",
        "        \"document\": (neg_reviews[2]),\n",
        "    },\n",
        "    {\n",
        "        \"sentiment\": Sentiment.POSITIVE,\n",
        "        \"document\": (pos_reviews[2])\n",
        "    },\n",
        "    {\n",
        "        \"sentiment\": Sentiment.NEGATIVE,\n",
        "        \"document\": (neg_reviews[3]),\n",
        "    },\n",
        "    {\n",
        "        \"sentiment\": Sentiment.POSITIVE,\n",
        "        \"document\": (pos_reviews[3])\n",
        "    },\n",
        "    {\n",
        "        \"sentiment\": Sentiment.NEGATIVE,\n",
        "        \"document\": (neg_reviews[4]),\n",
        "    },\n",
        "    {\n",
        "        \"sentiment\": Sentiment.POSITIVE,\n",
        "        \"document\": (pos_reviews[4])\n",
        "    },\n",
        "]\n"
      ],
      "metadata": {
        "id": "d2JzGW89iGvo"
      },
      "execution_count": null,
      "outputs": []
    },
    {
      "cell_type": "markdown",
      "source": [
        "# Testing the Model"
      ],
      "metadata": {
        "id": "PRAXWPrzoQiL"
      }
    },
    {
      "cell_type": "code",
      "source": [
        "result = gradient.analyze_sentiment(document=document, examples=examples) #using gradient.analyze_sentiment in which giving document (test sample) and example in which we have assigned negative and positive\n",
        "pprint(result) #printing result"
      ],
      "metadata": {
        "colab": {
          "base_uri": "https://localhost:8080/"
        },
        "id": "bhmnZF2qiiZD",
        "outputId": "9436741d-9119-4e7a-fd03-0f612ab28e72"
      },
      "execution_count": null,
      "outputs": [
        {
          "output_type": "stream",
          "name": "stdout",
          "text": [
            "{'sentiment': <Sentiment.NEGATIVE: 'negative'>}\n"
          ]
        }
      ]
    }
  ]
}